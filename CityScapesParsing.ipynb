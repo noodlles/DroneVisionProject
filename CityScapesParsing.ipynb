{
 "cells": [
  {
   "cell_type": "code",
   "execution_count": 50,
   "metadata": {
    "collapsed": true
   },
   "outputs": [],
   "source": [
    "import numpy as np\n",
    "import os\n",
    "import json\n",
    "import cv2"
   ]
  },
  {
   "cell_type": "code",
   "execution_count": 48,
   "metadata": {
    "collapsed": true
   },
   "outputs": [],
   "source": [
    "datapath = \"./data/CityScapes/leftImg8bit_trainvaltest/leftImg8bit/\"\n",
    "annotpath = \"./data/CityScapes/gtFine_trainvaltest/gtFine/\"\n",
    "\n",
    "\n",
    "dt = []\n"
   ]
  },
  {
   "cell_type": "code",
   "execution_count": 49,
   "metadata": {
    "collapsed": false
   },
   "outputs": [],
   "source": [
    "f = open(\"data/CityScapes/data_list.txt\", \"a\")\n",
    "for sett in os.listdir(datapath):\n",
    "    for loc in os.listdir(datapath+sett):\n",
    "        for im_nm in os.listdir(datapath+sett +\"/\"+loc):\n",
    "            s = im_nm.split(\"_\")\n",
    "            s = \"_\".join(s[:3])\n",
    "            with open(annotpath + sett + \"/\" + loc + \"/\" + s + \"_\" + \"gtFine_polygons.json\") as fl:\n",
    "                annot = json.load(fl)\n",
    "                for item in  annot[\"objects\"]:\n",
    "                    pgs = np.array(item[\"polygon\"])\n",
    "                    lbl  = item[\"label\"]\n",
    "                    x1, y1 =  np.min(pgs, axis=0)\n",
    "                    x2, y2 =  np.max(pgs, axis=0)\n",
    "                    l = [datapath+sett +\"/\"+loc + \"/\" + im_nm, x1, y1, x2, y2, lbl]\n",
    "                    f.write(\",\".join(map(str, l)) + \"\\n\")\n",
    "f.close()"
   ]
  },
  {
   "cell_type": "code",
   "execution_count": 43,
   "metadata": {
    "collapsed": false
   },
   "outputs": [
    {
     "data": {
      "text/plain": [
       "[['./data/CityScapes/leftImg8bit_trainvaltest/leftImg8bit/test/berlin/berlin_000000_000019_leftImg8bit.png',\n",
       "  271,\n",
       "  844,\n",
       "  2028,\n",
       "  1023,\n",
       "  u'ego vehicle'],\n",
       " ['./data/CityScapes/leftImg8bit_trainvaltest/leftImg8bit/test/berlin/berlin_000000_000019_leftImg8bit.png',\n",
       "  0,\n",
       "  0,\n",
       "  2048,\n",
       "  1024,\n",
       "  u'out of roi']]"
      ]
     },
     "execution_count": 43,
     "metadata": {},
     "output_type": "execute_result"
    }
   ],
   "source": [
    "dt"
   ]
  },
  {
   "cell_type": "code",
   "execution_count": 60,
   "metadata": {
    "collapsed": true
   },
   "outputs": [],
   "source": [
    "a = cv2.imread('./data/CityScapes/leftImg8bit_trainvaltest/leftImg8bit/test/berlin/berlin_000000_000019_leftImg8bit.png')"
   ]
  },
  {
   "cell_type": "code",
   "execution_count": 61,
   "metadata": {
    "collapsed": false
   },
   "outputs": [
    {
     "name": "stdout",
     "output_type": "stream",
     "text": [
      "[[[34 52 40]\n",
      "  [34 51 39]\n",
      "  [34 50 38]\n",
      "  ..., \n",
      "  [17 22 16]\n",
      "  [16 21 15]\n",
      "  [15 19 14]]\n",
      "\n",
      " [[32 50 38]\n",
      "  [33 50 39]\n",
      "  [33 50 37]\n",
      "  ..., \n",
      "  [17 22 16]\n",
      "  [16 20 14]\n",
      "  [15 20 14]]\n",
      "\n",
      " [[30 48 35]\n",
      "  [30 48 35]\n",
      "  [30 47 34]\n",
      "  ..., \n",
      "  [16 21 15]\n",
      "  [16 20 14]\n",
      "  [15 19 13]]\n",
      "\n",
      " ..., \n",
      " [[32 33 22]\n",
      "  [32 32 21]\n",
      "  [34 34 23]\n",
      "  ..., \n",
      "  [31 32 22]\n",
      "  [30 32 22]\n",
      "  [30 32 22]]\n",
      "\n",
      " [[32 33 22]\n",
      "  [32 32 21]\n",
      "  [34 34 23]\n",
      "  ..., \n",
      "  [29 31 22]\n",
      "  [29 31 22]\n",
      "  [30 31 23]]\n",
      "\n",
      " [[32 33 22]\n",
      "  [32 32 21]\n",
      "  [34 34 23]\n",
      "  ..., \n",
      "  [27 27 19]\n",
      "  [27 27 19]\n",
      "  [28 28 20]]]\n"
     ]
    }
   ],
   "source": [
    "print a"
   ]
  },
  {
   "cell_type": "code",
   "execution_count": null,
   "metadata": {
    "collapsed": true
   },
   "outputs": [],
   "source": []
  }
 ],
 "metadata": {
  "anaconda-cloud": {},
  "kernelspec": {
   "display_name": "Python [conda env:py27]",
   "language": "python",
   "name": "conda-env-py27-py"
  },
  "language_info": {
   "codemirror_mode": {
    "name": "ipython",
    "version": 2
   },
   "file_extension": ".py",
   "mimetype": "text/x-python",
   "name": "python",
   "nbconvert_exporter": "python",
   "pygments_lexer": "ipython2",
   "version": "2.7.12"
  }
 },
 "nbformat": 4,
 "nbformat_minor": 1
}
