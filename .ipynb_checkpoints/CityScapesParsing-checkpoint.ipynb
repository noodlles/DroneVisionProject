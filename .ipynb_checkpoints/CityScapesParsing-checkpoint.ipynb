{
 "cells": [
  {
   "cell_type": "code",
   "execution_count": 14,
   "metadata": {
    "collapsed": true
   },
   "outputs": [],
   "source": [
    "import numpy as np\n",
    "import os\n",
    "import json"
   ]
  },
  {
   "cell_type": "code",
   "execution_count": 46,
   "metadata": {
    "collapsed": true
   },
   "outputs": [],
   "source": [
    "datapath = \"./data/CityScapes/leftImg8bit_trainvaltest/leftImg8bit/\"\n",
    "annotpath = \"./data/CityScapes/gtFine_trainvaltest/gtFine/\"\n",
    "\n",
    "\n",
    "dt = []\n"
   ]
  },
  {
   "cell_type": "code",
   "execution_count": 47,
   "metadata": {
    "collapsed": false
   },
   "outputs": [],
   "source": [
    "f = open(\"data/CityScapes/data_list.txt\", \"a\")\n",
    "for sett in os.listdir(datapath):\n",
    "    for loc in os.listdir(datapath+sett):\n",
    "        for im_nm in os.listdir(datapath+sett +\"/\"+loc):\n",
    "            s = im_nm.split(\"_\")\n",
    "            s = \"_\".join(s[:3])\n",
    "            with open(annotpath + sett + \"/\" + loc + \"/\" + s + \"_\" + \"gtFine_polygons.json\") as fl:\n",
    "                annot = json.load(fl)\n",
    "                for item in  annot[\"objects\"]:\n",
    "                    pgs = np.array(item[\"polygon\"])\n",
    "                    lbl  = item[\"label\"]\n",
    "                    x1, y1 =  np.min(pgs, axis=0)\n",
    "                    x2, y2 =  np.max(pgs, axis=0)\n",
    "                    l = [datapath+sett +\"/\"+loc + \"/\" + im_nm, x1, y1, x2, y2, lbl]\n",
    "                    f.write(\",\".join(map(str, l)) + \"\\n\")\n",
    "f.close()"
   ]
  },
  {
   "cell_type": "code",
   "execution_count": 43,
   "metadata": {
    "collapsed": false
   },
   "outputs": [
    {
     "data": {
      "text/plain": [
       "[['./data/CityScapes/leftImg8bit_trainvaltest/leftImg8bit/test/berlin/berlin_000000_000019_leftImg8bit.png',\n",
       "  271,\n",
       "  844,\n",
       "  2028,\n",
       "  1023,\n",
       "  u'ego vehicle'],\n",
       " ['./data/CityScapes/leftImg8bit_trainvaltest/leftImg8bit/test/berlin/berlin_000000_000019_leftImg8bit.png',\n",
       "  0,\n",
       "  0,\n",
       "  2048,\n",
       "  1024,\n",
       "  u'out of roi']]"
      ]
     },
     "execution_count": 43,
     "metadata": {},
     "output_type": "execute_result"
    }
   ],
   "source": [
    "dt"
   ]
  },
  {
   "cell_type": "code",
   "execution_count": null,
   "metadata": {
    "collapsed": true
   },
   "outputs": [],
   "source": []
  }
 ],
 "metadata": {
  "anaconda-cloud": {},
  "kernelspec": {
   "display_name": "Python [conda env:py27]",
   "language": "python",
   "name": "conda-env-py27-py"
  },
  "language_info": {
   "codemirror_mode": {
    "name": "ipython",
    "version": 2
   },
   "file_extension": ".py",
   "mimetype": "text/x-python",
   "name": "python",
   "nbconvert_exporter": "python",
   "pygments_lexer": "ipython2",
   "version": "2.7.12"
  }
 },
 "nbformat": 4,
 "nbformat_minor": 1
}
